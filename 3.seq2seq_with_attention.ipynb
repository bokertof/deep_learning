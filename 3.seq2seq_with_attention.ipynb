{
  "nbformat": 4,
  "nbformat_minor": 0,
  "metadata": {
    "accelerator": "GPU",
    "colab": {
      "name": "seq2seq with attention.ipynb",
      "provenance": [],
      "collapsed_sections": []
    },
    "kernelspec": {
      "display_name": "Python 3",
      "language": "python",
      "name": "python3"
    },
    "language_info": {
      "codemirror_mode": {
        "name": "ipython",
        "version": 3
      },
      "file_extension": ".py",
      "mimetype": "text/x-python",
      "name": "python",
      "nbconvert_exporter": "python",
      "pygments_lexer": "ipython3",
      "version": "3.7.6"
    }
  },
  "cells": [
    {
      "cell_type": "markdown",
      "metadata": {
        "colab_type": "text",
        "id": "jgH3CAcubM4z"
      },
      "source": [
        "# Seq2Seq with attention\n",
        "\n",
        "Translation German into English"
      ]
    },
    {
      "cell_type": "code",
      "metadata": {
        "colab_type": "code",
        "id": "1fPuwHEnVIzn",
        "colab": {}
      },
      "source": [
        "import torch\n",
        "import torch.nn as nn\n",
        "import torch.optim as optim\n",
        "import numpy as np\n",
        "\n",
        "import spacy\n",
        "\n",
        "import random\n",
        "import math\n",
        "import time\n",
        "\n",
        "\n",
        "from torch.nn.utils.rnn import pack_padded_sequence, pad_packed_sequence\n",
        "from torchtext.datasets import TranslationDataset, Multi30k\n",
        "from torchtext.data import Field, BucketIterator\n",
        "\n",
        "import torch.nn.functional as F"
      ],
      "execution_count": 9,
      "outputs": []
    },
    {
      "cell_type": "code",
      "metadata": {
        "colab_type": "code",
        "id": "uQSnhb84VLU7",
        "colab": {
          "base_uri": "https://localhost:8080/",
          "height": 34
        },
        "outputId": "f144a049-2e58-4a1f-f83f-6308b67c64db"
      },
      "source": [
        "seed = 43\n",
        "\n",
        "random.seed(seed)\n",
        "torch.manual_seed(seed)\n",
        "np.random.seed(seed)\n",
        "torch.backends.cudnn.deterministic = True\n",
        "\n",
        "device = torch.device('cuda' if torch.cuda.is_available() else 'cpu')\n",
        "device"
      ],
      "execution_count": 10,
      "outputs": [
        {
          "output_type": "execute_result",
          "data": {
            "text/plain": [
              "device(type='cuda')"
            ]
          },
          "metadata": {
            "tags": []
          },
          "execution_count": 10
        }
      ]
    },
    {
      "cell_type": "code",
      "metadata": {
        "colab_type": "code",
        "id": "L10vdpVaVXBo",
        "colab": {
          "base_uri": "https://localhost:8080/",
          "height": 944
        },
        "outputId": "d7a2e6f2-12a6-4912-ce6f-41a717f214da"
      },
      "source": [
        "! python -m spacy download en\n",
        "! python -m spacy download de\n",
        "\n",
        "\n",
        "spacy_de = spacy.load('de')\n",
        "spacy_en = spacy.load('en')"
      ],
      "execution_count": 11,
      "outputs": [
        {
          "output_type": "stream",
          "text": [
            "Requirement already satisfied: en_core_web_sm==2.2.5 from https://github.com/explosion/spacy-models/releases/download/en_core_web_sm-2.2.5/en_core_web_sm-2.2.5.tar.gz#egg=en_core_web_sm==2.2.5 in /usr/local/lib/python3.6/dist-packages (2.2.5)\n",
            "Requirement already satisfied: spacy>=2.2.2 in /usr/local/lib/python3.6/dist-packages (from en_core_web_sm==2.2.5) (2.2.4)\n",
            "Requirement already satisfied: catalogue<1.1.0,>=0.0.7 in /usr/local/lib/python3.6/dist-packages (from spacy>=2.2.2->en_core_web_sm==2.2.5) (1.0.0)\n",
            "Requirement already satisfied: blis<0.5.0,>=0.4.0 in /usr/local/lib/python3.6/dist-packages (from spacy>=2.2.2->en_core_web_sm==2.2.5) (0.4.1)\n",
            "Requirement already satisfied: wasabi<1.1.0,>=0.4.0 in /usr/local/lib/python3.6/dist-packages (from spacy>=2.2.2->en_core_web_sm==2.2.5) (0.7.1)\n",
            "Requirement already satisfied: setuptools in /usr/local/lib/python3.6/dist-packages (from spacy>=2.2.2->en_core_web_sm==2.2.5) (49.2.0)\n",
            "Requirement already satisfied: tqdm<5.0.0,>=4.38.0 in /usr/local/lib/python3.6/dist-packages (from spacy>=2.2.2->en_core_web_sm==2.2.5) (4.41.1)\n",
            "Requirement already satisfied: plac<1.2.0,>=0.9.6 in /usr/local/lib/python3.6/dist-packages (from spacy>=2.2.2->en_core_web_sm==2.2.5) (1.1.3)\n",
            "Requirement already satisfied: preshed<3.1.0,>=3.0.2 in /usr/local/lib/python3.6/dist-packages (from spacy>=2.2.2->en_core_web_sm==2.2.5) (3.0.2)\n",
            "Requirement already satisfied: requests<3.0.0,>=2.13.0 in /usr/local/lib/python3.6/dist-packages (from spacy>=2.2.2->en_core_web_sm==2.2.5) (2.23.0)\n",
            "Requirement already satisfied: murmurhash<1.1.0,>=0.28.0 in /usr/local/lib/python3.6/dist-packages (from spacy>=2.2.2->en_core_web_sm==2.2.5) (1.0.2)\n",
            "Requirement already satisfied: thinc==7.4.0 in /usr/local/lib/python3.6/dist-packages (from spacy>=2.2.2->en_core_web_sm==2.2.5) (7.4.0)\n",
            "Requirement already satisfied: numpy>=1.15.0 in /usr/local/lib/python3.6/dist-packages (from spacy>=2.2.2->en_core_web_sm==2.2.5) (1.18.5)\n",
            "Requirement already satisfied: cymem<2.1.0,>=2.0.2 in /usr/local/lib/python3.6/dist-packages (from spacy>=2.2.2->en_core_web_sm==2.2.5) (2.0.3)\n",
            "Requirement already satisfied: srsly<1.1.0,>=1.0.2 in /usr/local/lib/python3.6/dist-packages (from spacy>=2.2.2->en_core_web_sm==2.2.5) (1.0.2)\n",
            "Requirement already satisfied: importlib-metadata>=0.20; python_version < \"3.8\" in /usr/local/lib/python3.6/dist-packages (from catalogue<1.1.0,>=0.0.7->spacy>=2.2.2->en_core_web_sm==2.2.5) (1.7.0)\n",
            "Requirement already satisfied: urllib3!=1.25.0,!=1.25.1,<1.26,>=1.21.1 in /usr/local/lib/python3.6/dist-packages (from requests<3.0.0,>=2.13.0->spacy>=2.2.2->en_core_web_sm==2.2.5) (1.24.3)\n",
            "Requirement already satisfied: certifi>=2017.4.17 in /usr/local/lib/python3.6/dist-packages (from requests<3.0.0,>=2.13.0->spacy>=2.2.2->en_core_web_sm==2.2.5) (2020.6.20)\n",
            "Requirement already satisfied: idna<3,>=2.5 in /usr/local/lib/python3.6/dist-packages (from requests<3.0.0,>=2.13.0->spacy>=2.2.2->en_core_web_sm==2.2.5) (2.10)\n",
            "Requirement already satisfied: chardet<4,>=3.0.2 in /usr/local/lib/python3.6/dist-packages (from requests<3.0.0,>=2.13.0->spacy>=2.2.2->en_core_web_sm==2.2.5) (3.0.4)\n",
            "Requirement already satisfied: zipp>=0.5 in /usr/local/lib/python3.6/dist-packages (from importlib-metadata>=0.20; python_version < \"3.8\"->catalogue<1.1.0,>=0.0.7->spacy>=2.2.2->en_core_web_sm==2.2.5) (3.1.0)\n",
            "\u001b[38;5;2m✔ Download and installation successful\u001b[0m\n",
            "You can now load the model via spacy.load('en_core_web_sm')\n",
            "\u001b[38;5;2m✔ Linking successful\u001b[0m\n",
            "/usr/local/lib/python3.6/dist-packages/en_core_web_sm -->\n",
            "/usr/local/lib/python3.6/dist-packages/spacy/data/en\n",
            "You can now load the model via spacy.load('en')\n",
            "Requirement already satisfied: de_core_news_sm==2.2.5 from https://github.com/explosion/spacy-models/releases/download/de_core_news_sm-2.2.5/de_core_news_sm-2.2.5.tar.gz#egg=de_core_news_sm==2.2.5 in /usr/local/lib/python3.6/dist-packages (2.2.5)\n",
            "Requirement already satisfied: spacy>=2.2.2 in /usr/local/lib/python3.6/dist-packages (from de_core_news_sm==2.2.5) (2.2.4)\n",
            "Requirement already satisfied: tqdm<5.0.0,>=4.38.0 in /usr/local/lib/python3.6/dist-packages (from spacy>=2.2.2->de_core_news_sm==2.2.5) (4.41.1)\n",
            "Requirement already satisfied: preshed<3.1.0,>=3.0.2 in /usr/local/lib/python3.6/dist-packages (from spacy>=2.2.2->de_core_news_sm==2.2.5) (3.0.2)\n",
            "Requirement already satisfied: plac<1.2.0,>=0.9.6 in /usr/local/lib/python3.6/dist-packages (from spacy>=2.2.2->de_core_news_sm==2.2.5) (1.1.3)\n",
            "Requirement already satisfied: setuptools in /usr/local/lib/python3.6/dist-packages (from spacy>=2.2.2->de_core_news_sm==2.2.5) (49.2.0)\n",
            "Requirement already satisfied: cymem<2.1.0,>=2.0.2 in /usr/local/lib/python3.6/dist-packages (from spacy>=2.2.2->de_core_news_sm==2.2.5) (2.0.3)\n",
            "Requirement already satisfied: murmurhash<1.1.0,>=0.28.0 in /usr/local/lib/python3.6/dist-packages (from spacy>=2.2.2->de_core_news_sm==2.2.5) (1.0.2)\n",
            "Requirement already satisfied: srsly<1.1.0,>=1.0.2 in /usr/local/lib/python3.6/dist-packages (from spacy>=2.2.2->de_core_news_sm==2.2.5) (1.0.2)\n",
            "Requirement already satisfied: numpy>=1.15.0 in /usr/local/lib/python3.6/dist-packages (from spacy>=2.2.2->de_core_news_sm==2.2.5) (1.18.5)\n",
            "Requirement already satisfied: blis<0.5.0,>=0.4.0 in /usr/local/lib/python3.6/dist-packages (from spacy>=2.2.2->de_core_news_sm==2.2.5) (0.4.1)\n",
            "Requirement already satisfied: catalogue<1.1.0,>=0.0.7 in /usr/local/lib/python3.6/dist-packages (from spacy>=2.2.2->de_core_news_sm==2.2.5) (1.0.0)\n",
            "Requirement already satisfied: requests<3.0.0,>=2.13.0 in /usr/local/lib/python3.6/dist-packages (from spacy>=2.2.2->de_core_news_sm==2.2.5) (2.23.0)\n",
            "Requirement already satisfied: wasabi<1.1.0,>=0.4.0 in /usr/local/lib/python3.6/dist-packages (from spacy>=2.2.2->de_core_news_sm==2.2.5) (0.7.1)\n",
            "Requirement already satisfied: thinc==7.4.0 in /usr/local/lib/python3.6/dist-packages (from spacy>=2.2.2->de_core_news_sm==2.2.5) (7.4.0)\n",
            "Requirement already satisfied: importlib-metadata>=0.20; python_version < \"3.8\" in /usr/local/lib/python3.6/dist-packages (from catalogue<1.1.0,>=0.0.7->spacy>=2.2.2->de_core_news_sm==2.2.5) (1.7.0)\n",
            "Requirement already satisfied: urllib3!=1.25.0,!=1.25.1,<1.26,>=1.21.1 in /usr/local/lib/python3.6/dist-packages (from requests<3.0.0,>=2.13.0->spacy>=2.2.2->de_core_news_sm==2.2.5) (1.24.3)\n",
            "Requirement already satisfied: certifi>=2017.4.17 in /usr/local/lib/python3.6/dist-packages (from requests<3.0.0,>=2.13.0->spacy>=2.2.2->de_core_news_sm==2.2.5) (2020.6.20)\n",
            "Requirement already satisfied: chardet<4,>=3.0.2 in /usr/local/lib/python3.6/dist-packages (from requests<3.0.0,>=2.13.0->spacy>=2.2.2->de_core_news_sm==2.2.5) (3.0.4)\n",
            "Requirement already satisfied: idna<3,>=2.5 in /usr/local/lib/python3.6/dist-packages (from requests<3.0.0,>=2.13.0->spacy>=2.2.2->de_core_news_sm==2.2.5) (2.10)\n",
            "Requirement already satisfied: zipp>=0.5 in /usr/local/lib/python3.6/dist-packages (from importlib-metadata>=0.20; python_version < \"3.8\"->catalogue<1.1.0,>=0.0.7->spacy>=2.2.2->de_core_news_sm==2.2.5) (3.1.0)\n",
            "\u001b[38;5;2m✔ Download and installation successful\u001b[0m\n",
            "You can now load the model via spacy.load('de_core_news_sm')\n",
            "\u001b[38;5;2m✔ Linking successful\u001b[0m\n",
            "/usr/local/lib/python3.6/dist-packages/de_core_news_sm -->\n",
            "/usr/local/lib/python3.6/dist-packages/spacy/data/de\n",
            "You can now load the model via spacy.load('de')\n"
          ],
          "name": "stdout"
        }
      ]
    },
    {
      "cell_type": "code",
      "metadata": {
        "colab_type": "code",
        "id": "ferOqkOUVirW",
        "colab": {}
      },
      "source": [
        "def tokenize_de(text):\n",
        "    \"\"\"\n",
        "    Tokenizes German text from a string into a list of strings (tokens) and reverses it\n",
        "    \"\"\"\n",
        "    return [tok.text for tok in spacy_de.tokenizer(text)][::-1]\n",
        "\n",
        "def tokenize_en(text):\n",
        "    \"\"\"\n",
        "    Tokenizes English text from a string into a list of strings (tokens)\n",
        "    \"\"\"\n",
        "    return [tok.text for tok in spacy_en.tokenizer(text)]\n",
        "\n",
        "\n",
        "\n",
        "SRC = Field(tokenize = tokenize_de, \n",
        "            init_token = '<sos>', \n",
        "            eos_token = '<eos>', \n",
        "            lower = True)\n",
        "\n",
        "TRG = Field(tokenize = tokenize_en, \n",
        "            init_token = '<sos>', \n",
        "            eos_token = '<eos>', \n",
        "            lower = True)"
      ],
      "execution_count": 12,
      "outputs": []
    },
    {
      "cell_type": "code",
      "metadata": {
        "colab_type": "code",
        "id": "u6pNY6cWW3j5",
        "colab": {}
      },
      "source": [
        "train_data, valid_data, test_data = Multi30k.splits(exts = ('.de', '.en'),  fields = (SRC, TRG))"
      ],
      "execution_count": 13,
      "outputs": []
    },
    {
      "cell_type": "code",
      "metadata": {
        "colab_type": "code",
        "id": "r0Xpf4IBW4Uf",
        "colab": {
          "base_uri": "https://localhost:8080/",
          "height": 67
        },
        "outputId": "45e3946a-c7bb-4146-97ad-440c70b4a5b7"
      },
      "source": [
        "labels = ['train', 'validation', 'test']\n",
        "dataloaders = [train_data, valid_data, test_data]\n",
        "for d, l in zip(dataloaders, labels):\n",
        "    print(\"Number of sentences in {} : {}\".format(l, len(d.examples)))\n"
      ],
      "execution_count": 14,
      "outputs": [
        {
          "output_type": "stream",
          "text": [
            "Number of sentences in train : 29000\n",
            "Number of sentences in validation : 1014\n",
            "Number of sentences in test : 1000\n"
          ],
          "name": "stdout"
        }
      ]
    },
    {
      "cell_type": "code",
      "metadata": {
        "colab_type": "code",
        "id": "Gg63m8haW4XC",
        "colab": {
          "base_uri": "https://localhost:8080/",
          "height": 50
        },
        "outputId": "38c3637d-d9f8-4045-e0b1-484f2c3f74ca"
      },
      "source": [
        "SRC.build_vocab(train_data, min_freq = 2)\n",
        "TRG.build_vocab(train_data, min_freq = 2)\n",
        "print(\"Number of words in source vocabulary\", len(SRC.vocab))\n",
        "print(\"Number of words in target vocabulary\", len(TRG.vocab))"
      ],
      "execution_count": 15,
      "outputs": [
        {
          "output_type": "stream",
          "text": [
            "Number of words in source vocabulary 7855\n",
            "Number of words in target vocabulary 5893\n"
          ],
          "name": "stdout"
        }
      ]
    },
    {
      "cell_type": "markdown",
      "metadata": {
        "colab_type": "text",
        "id": "LSd3la5FbJ5_"
      },
      "source": [
        "## Encoder\n",
        "\n",
        "Encoder is based on biLSTM\n"
      ]
    },
    {
      "cell_type": "code",
      "metadata": {
        "colab_type": "code",
        "id": "_Ar5SN6tW4ck",
        "colab": {}
      },
      "source": [
        "class Encoder(nn.Module):\n",
        "    def __init__(self, input_dim, emb_dim, hid_dim, n_layers, dropout):\n",
        "\n",
        "        super().__init__()\n",
        "        \n",
        "        self.input_dim = input_dim\n",
        "        self.emb_dim = emb_dim\n",
        "        self.hid_dim = hid_dim\n",
        "        self.n_layers = n_layers\n",
        "\n",
        "        self.embedding = nn.Embedding(input_dim, emb_dim)\n",
        " \n",
        "        self.rnn = nn.LSTM(emb_dim, hid_dim, n_layers, bidirectional = True)\n",
        "        \n",
        "        self.dropout = nn.Dropout(dropout)\n",
        "        \n",
        "    def forward(self, src):\n",
        "\n",
        "        embedded = self.embedding(src)\n",
        "        embedded = self.dropout(embedded)\n",
        "        outputs, (hidden, cell) = self.rnn(embedded)\n",
        "        \n",
        "        hidden = torch.cat(tuple([hidden[i:i+2] for i in range(0, hidden.shape[0], 2)]), 2)\n",
        "        cell = torch.cat(tuple([cell[i:i+2] for i in range(0, cell.shape[0], 2)]), 2) \n",
        "\n",
        "        return outputs, hidden, cell\n"
      ],
      "execution_count": 16,
      "outputs": []
    },
    {
      "cell_type": "markdown",
      "metadata": {
        "colab_type": "text",
        "id": "-8QOCpKxfD3M"
      },
      "source": [
        "## Decoder\n",
        "Decoder is based on multi-layer LSTM with Attention machanism (both Bahdanau and Luong are implemented)\n",
        "\n"
      ]
    },
    {
      "cell_type": "code",
      "metadata": {
        "colab_type": "code",
        "id": "gRgtzaf4bJp6",
        "colab": {}
      },
      "source": [
        "class Attention(nn.Module):\n",
        "    def __init__(self, layers, embedd_size, hidden_size, approach = 'Luong', method=\"concat\"):\n",
        "        super(Attention, self).__init__()\n",
        "\n",
        "        self.approach = approach\n",
        "        self.method = method\n",
        "        self.hidden_size = hidden_size\n",
        "\n",
        "        if self.approach == 'Bahdanau':\n",
        "\n",
        "            self.ln1 = nn.Linear(hidden_size, hidden_size)\n",
        "            self.ln2 = nn.Linear(hidden_size, hidden_size)\n",
        "            self.ln3 = nn.Linear(embedd_size, hidden_size)\n",
        "            self.ln4 = nn.Linear(hidden_size, layers)\n",
        "            self.ln5 = nn.Linear(hidden_size+embedd_size, hidden_size)\n",
        "\n",
        "        if self.approach == 'Luong':\n",
        "\n",
        "            if method == \"one-layer-net\":\n",
        "                 self.ln = nn.Linear(hidden_size, hidden_size)\n",
        "\n",
        "            elif method == \"concat\":\n",
        "                 self.ln1 = nn.Linear(hidden_size, hidden_size)\n",
        "                 self.ln2 = nn.Linear(hidden_size, 1)\n",
        "\n",
        "    def forward(self, embedded, last_hidden, encoder_outputs, seq_len=None):\n",
        "            \n",
        "            if self.approach == 'Bahdanau':\n",
        "\n",
        "                x = torch.tanh(self.ln1(last_hidden[0]) + self.ln2(encoder_outputs) + self.ln3(embedded))\n",
        "\n",
        "                alignment_scores = self.ln4(x)\n",
        "                attn_weights = F.softmax(alignment_scores, dim=0)\n",
        "\n",
        "                context_vector = torch.bmm(encoder_outputs.permute(1,2,0), attn_weights.permute(1,0,2)).permute(2,0,1)\n",
        "                    \n",
        "                context_vector = torch.cat((torch.cat(context_vector.shape[0]*[embedded]), context_vector), 2)\n",
        "                new_hidden = self.ln5(context_vector)\n",
        "\n",
        "                return new_hidden\n",
        "\n",
        "            if self.approach == 'Luong':\n",
        "\n",
        "                if self.method == \"one-layer-net\":       \n",
        "\n",
        "                    out = self.ln(last_hidden)\n",
        "                    alignment_scores = torch.bmm(encoder_outputs.permute(1,0,2), out.permute(1,2,0))               \n",
        "                    attn_weights = F.softmax(alignment_scores, dim=1)\n",
        "                    context_vector = torch.bmm(encoder_outputs.permute(1,2,0), attn_weights).view(-1, self.hidden_size)\n",
        "                    output = torch.cat((last_hidden.view(-1, self.hidden_size), context_vector), 1)\n",
        "\n",
        "                    return output\n",
        "\n",
        "                elif self.method == \"dot\":\n",
        "\n",
        "                    alignment_scores = torch.bmm(encoder_outputs.permute(1,0,2), last_hidden.permute(1,2,0))               \n",
        "                    attn_weights = F.softmax(alignment_scores, dim=1)\n",
        "                    context_vector = torch.bmm(encoder_outputs.permute(1,2,0), attn_weights).view(-1, self.hidden_size)\n",
        "                    output = torch.cat((last_hidden.view(-1, self.hidden_size), context_vector), 1)\n",
        "\n",
        "                    return output      \n",
        "\n",
        "                elif self.method == \"concat\":\n",
        "\n",
        "                    alignment_scores = self.ln2(torch.tanh(self.ln1(last_hidden + encoder_outputs)).permute(1,0,2))\n",
        "                    attn_weights = F.softmax(alignment_scores, dim=1)\n",
        "                    context_vector = torch.bmm(encoder_outputs.permute(1,2,0), attn_weights).view(-1, self.hidden_size)\n",
        "                    output = torch.cat((last_hidden.view(-1, self.hidden_size), context_vector), 1)\n",
        "\n",
        "                    return output     \n",
        "\n",
        "\n",
        "\n",
        "class DecoderAttn(nn.Module):\n",
        "    def __init__(self, output_dim, emb_dim, hid_dim, n_layers, attention, dropout=0.1):\n",
        "        super(DecoderAttn, self).__init__()\n",
        "        \n",
        "        self.emb_dim = emb_dim\n",
        "        self.hid_dim = hid_dim\n",
        "        self.output_dim = output_dim\n",
        "        self.n_layers = n_layers\n",
        "        \n",
        "        self.attn = attention\n",
        "\n",
        "        self.embedding = nn.Embedding(self.output_dim, self.emb_dim)\n",
        "        \n",
        "        self.rnn = nn.LSTM(self.emb_dim, self.hid_dim, self.n_layers) #(lstm embd, hid, layers, dropout)\n",
        "\n",
        "        if self.attn.approach == 'Bahdanau':\n",
        "            self.out = nn.Linear(self.hid_dim, self.output_dim)  # Projection :hid_dim x output_dim\n",
        "\n",
        "        elif self.attn.approach == 'Luong':\n",
        "            self.out = nn.Linear(self.hid_dim*2, self.output_dim)\n",
        "\n",
        "        self.dropout = nn.Dropout(dropout)\n",
        "        \n",
        "    def forward(self, input_, hidden, cell, encoder_outputs):\n",
        "        \n",
        "        if self.attn.approach == 'Bahdanau':\n",
        "\n",
        "            input_ = input_.unsqueeze(0)\n",
        "            embedded = self.embedding(input_)\n",
        "            embedded = self.dropout(embedded)\n",
        "            hidden_attention = self.attn.forward(embedded, hidden, encoder_outputs)\n",
        "\n",
        "            output, (hidden, cell) = self.rnn(embedded, (hidden_attention, cell))\n",
        "            prediction = self.out(output.squeeze(0))\n",
        "            \n",
        "            return prediction, hidden, cell\n",
        "\n",
        "        elif self.attn.approach == 'Luong':\n",
        "\n",
        "            input_ = input_.unsqueeze(0)\n",
        "            embedded = self.embedding(input_)\n",
        "            embedded = self.dropout(embedded)\n",
        "            \n",
        "            output, (hidden, cell) = self.rnn(embedded, (hidden, cell))\n",
        "            output = self.attn.forward(embedded, output, encoder_outputs)\n",
        "            prediction = self.out(output)\n",
        "            \n",
        "            return prediction, hidden, cell"
      ],
      "execution_count": 17,
      "outputs": []
    },
    {
      "cell_type": "markdown",
      "metadata": {
        "colab_type": "text",
        "id": "UlD7-nusfL86"
      },
      "source": [
        "## Seq2Seq itself\n"
      ]
    },
    {
      "cell_type": "code",
      "metadata": {
        "colab_type": "code",
        "id": "v_YvVGzaW4fY",
        "colab": {}
      },
      "source": [
        "BOS_IDX = TRG.vocab.stoi['<sos>']\n",
        "\n",
        "class Seq2Seq(nn.Module):\n",
        "    def __init__(self, encoder, decoder, device):\n",
        "        super().__init__()\n",
        "\n",
        "        self.encoder = encoder\n",
        "        self.decoder = decoder\n",
        "        self.device = device\n",
        "        self._init_weights() \n",
        "        self.max_len=30\n",
        "    \n",
        "    def forward(self, src, trg, teacher_forcing_ratio = 0.5):\n",
        "\n",
        "        batch_size = trg.shape[1]\n",
        "        max_len = trg.shape[0]\n",
        "        trg_vocab_size = self.decoder.output_dim\n",
        "        \n",
        "        outputs = torch.zeros(max_len, batch_size, trg_vocab_size).to(self.device)\n",
        "\n",
        "        enc_out, hidden, cell = self.encoder.forward(src)\n",
        "        input = trg[BOS_IDX] \n",
        "        \n",
        "        for t in range(1, max_len):\n",
        "            output, hidden, cell = self.decoder(input, hidden, cell, enc_out)\n",
        "  \n",
        "            outputs[t] = output\n",
        "            teacher_force = random.random() < teacher_forcing_ratio\n",
        "            top1 = output.max(1)[1]\n",
        "            input = (trg[t] if teacher_force else top1)\n",
        "        \n",
        "        return outputs\n",
        "    \n",
        "    def translate(self, src):\n",
        "        trg_vocab_size = self.decoder.output_dim\n",
        "\n",
        "        outputs = []\n",
        "        \n",
        "        src = torch.as_tensor(src).view(-1,1).to(self.device)\n",
        "\n",
        "        enc_out, hidden, cell = self.encoder.forward(src) \n",
        "\n",
        "        input = torch.as_tensor(BOS_IDX).view(-1).to(self.device)     \n",
        "\n",
        "        for t in range(1, self.max_len):\n",
        "            \n",
        "            output, hidden, cell = self.decoder(input, hidden, cell, enc_out) \n",
        "            top1 = output.max(1)[1]\n",
        "            outputs.append(top1)\n",
        "            input = (top1)\n",
        "        \n",
        "        return outputs\n",
        "    \n",
        "    def _init_weights(self):\n",
        "        p = 0.08\n",
        "        for name, param in self.named_parameters():\n",
        "            nn.init.uniform_(param.data, -p, p)\n",
        "        \n"
      ],
      "execution_count": 18,
      "outputs": []
    },
    {
      "cell_type": "code",
      "metadata": {
        "colab_type": "code",
        "id": "msbn2VypfUur",
        "colab": {}
      },
      "source": [
        "input_dim = len(SRC.vocab)\n",
        "output_dim = len(TRG.vocab)\n",
        "src_embd_dim =  tgt_embd_dim = 256\n",
        "num_layers_enc =  2\n",
        "num_layers_dec =  2\n",
        "dropout_prob = 0.5\n",
        "hidden_dim_enc = 256\n",
        "hidden_dim_dec = 512\n",
        "\n",
        "batch_size = 128\n",
        "PAD_IDX = TRG.vocab.stoi['<pad>']\n",
        "\n",
        "iterators = BucketIterator.splits((train_data, valid_data, test_data),\n",
        "                                  batch_size = batch_size, device = device)\n",
        "train_iterator, valid_iterator, test_iterator = iterators\n",
        "\n",
        "\n",
        "\n",
        "\n",
        "encoder = Encoder(input_dim, src_embd_dim, hidden_dim_enc, num_layers_enc, dropout_prob)\n",
        "attention = Attention(num_layers_dec, tgt_embd_dim, hidden_dim_dec, approach = 'Bahdanau', method=\"dot\")\n",
        "decoder = DecoderAttn(output_dim, tgt_embd_dim, hidden_dim_dec, num_layers_dec, attention, dropout_prob)\n",
        "\n",
        "\n",
        "model = Seq2Seq(encoder, decoder, device).to(device)\n"
      ],
      "execution_count": 37,
      "outputs": []
    },
    {
      "cell_type": "code",
      "metadata": {
        "colab_type": "code",
        "id": "h5V9ZnK4fUxq",
        "colab": {
          "base_uri": "https://localhost:8080/",
          "height": 353
        },
        "outputId": "7cf6a29f-f07a-47d8-fa15-aa888bc3fdcc"
      },
      "source": [
        "model"
      ],
      "execution_count": 38,
      "outputs": [
        {
          "output_type": "execute_result",
          "data": {
            "text/plain": [
              "Seq2Seq(\n",
              "  (encoder): Encoder(\n",
              "    (embedding): Embedding(7855, 256)\n",
              "    (rnn): LSTM(256, 256, num_layers=2, bidirectional=True)\n",
              "    (dropout): Dropout(p=0.5, inplace=False)\n",
              "  )\n",
              "  (decoder): DecoderAttn(\n",
              "    (attn): Attention(\n",
              "      (ln1): Linear(in_features=512, out_features=512, bias=True)\n",
              "      (ln2): Linear(in_features=512, out_features=512, bias=True)\n",
              "      (ln3): Linear(in_features=256, out_features=512, bias=True)\n",
              "      (ln4): Linear(in_features=512, out_features=2, bias=True)\n",
              "      (ln5): Linear(in_features=768, out_features=512, bias=True)\n",
              "    )\n",
              "    (embedding): Embedding(5893, 256)\n",
              "    (rnn): LSTM(256, 512, num_layers=2)\n",
              "    (out): Linear(in_features=512, out_features=5893, bias=True)\n",
              "    (dropout): Dropout(p=0.5, inplace=False)\n",
              "  )\n",
              ")"
            ]
          },
          "metadata": {
            "tags": []
          },
          "execution_count": 38
        }
      ]
    },
    {
      "cell_type": "code",
      "metadata": {
        "colab_type": "code",
        "id": "3vaUeDjTfU4k",
        "colab": {}
      },
      "source": [
        "def train(model, iterator, optimizer, criterion, teacher, clip):\n",
        "    \n",
        "    model.train()\n",
        "    \n",
        "    epoch_loss = 0\n",
        "    \n",
        "    for i, batch in enumerate(iterator):\n",
        "        \n",
        "        src = batch.src\n",
        "        trg = batch.trg\n",
        "        \n",
        "        optimizer.zero_grad()\n",
        "        \n",
        "        output = model(src, trg, teacher)\n",
        "        \n",
        "        output = output[1:].view(-1, output.shape[-1])\n",
        "        trg = trg[1:].view(-1)\n",
        "        \n",
        "        loss = criterion(output, trg)\n",
        "        \n",
        "        loss.backward()\n",
        "        \n",
        "        torch.nn.utils.clip_grad_norm_(model.parameters(), clip)\n",
        "        \n",
        "        optimizer.step()\n",
        "        \n",
        "        epoch_loss += loss.item()\n",
        "        \n",
        "    return epoch_loss / len(iterator)"
      ],
      "execution_count": 39,
      "outputs": []
    },
    {
      "cell_type": "code",
      "metadata": {
        "colab_type": "code",
        "id": "HfbTx2FMjaIM",
        "colab": {}
      },
      "source": [
        "def evaluate(model, iterator, criterion):\n",
        "    \n",
        "    model.eval()\n",
        "    \n",
        "    epoch_loss = 0\n",
        "    \n",
        "    with torch.no_grad():\n",
        "    \n",
        "        for i, batch in enumerate(iterator):\n",
        "\n",
        "            src = batch.src\n",
        "            trg = batch.trg\n",
        "\n",
        "            output = model(src, trg, 0) #turn off teacher forcing !!\n",
        "            output = output[1:].view(-1, output.shape[-1])\n",
        "            trg = trg[1:].view(-1)\n",
        "\n",
        "\n",
        "            loss = criterion(output, trg)\n",
        "            \n",
        "            epoch_loss += loss.item()\n",
        "        \n",
        "    return epoch_loss / len(iterator)"
      ],
      "execution_count": 40,
      "outputs": []
    },
    {
      "cell_type": "code",
      "metadata": {
        "colab_type": "code",
        "id": "an6HG7_uyjJN",
        "colab": {}
      },
      "source": [
        "EOS_IDX = TRG.vocab.stoi['<eos>']\n",
        "\n",
        "def translate(sentence):\n",
        "\n",
        "    model.eval()\n",
        "    \n",
        "    with torch.no_grad():\n",
        "        sentence = sentence.lower()\n",
        "        sent_vec = [SRC.vocab.stoi[token] for token in sentence.split()]\n",
        "\n",
        "        translation_idx = model.translate(torch.tensor(sent_vec))\n",
        "        for t in translation_idx:\n",
        "            if t[0] != EOS_IDX:\n",
        "                print(TRG.vocab.itos[t[0]], end=' ')\n",
        "            else:\n",
        "                break\n"
      ],
      "execution_count": 41,
      "outputs": []
    },
    {
      "cell_type": "markdown",
      "metadata": {
        "id": "MOYJ5VFfQmcc",
        "colab_type": "text"
      },
      "source": [
        "# Training and BLEu estimations\n"
      ]
    },
    {
      "cell_type": "code",
      "metadata": {
        "colab_type": "code",
        "id": "lQV_yqkLjcyQ",
        "colab": {
          "base_uri": "https://localhost:8080/",
          "height": 1000
        },
        "outputId": "5958a73d-78dd-4de4-b29e-ec5e59eb8615"
      },
      "source": [
        "max_epochs = 20\n",
        "CLIP = 1\n",
        "teacher = 0.2\n",
        "\n",
        "\n",
        "optimizer = optim.Adam(model.parameters(), lr = 1e-3)\n",
        "criterion = nn.CrossEntropyLoss(ignore_index = PAD_IDX)\n",
        "scheduler = optim.lr_scheduler.StepLR(optimizer, step_size=5, gamma=0.7)\n",
        "\n",
        "\n",
        "best_valid_loss = float('inf')\n",
        "for epoch in range(1, max_epochs+1):\n",
        "    \n",
        "    \n",
        "    train_loss = round(train(model, train_iterator, optimizer, criterion, teacher, CLIP), 5)\n",
        "    valid_loss = round(evaluate(model, valid_iterator, criterion), 5)\n",
        "    scheduler.step()\n",
        "    \n",
        "    \n",
        "    if valid_loss < best_valid_loss:\n",
        "        best_valid_loss = valid_loss\n",
        "        torch.save(model.state_dict(), 'model.pt')\n",
        "    \n",
        "    print('\\nEpoch: {} \\nTrain Loss {}  Val loss {}:'.format(epoch, train_loss, valid_loss))\n",
        "    print('Train Perplexity {}  Val Perplexity {}:'.format(np.exp(train_loss), np.exp(valid_loss)))\n",
        "    print('Teacher forcing:', teacher)\n",
        "\n",
        "    translate(\"Ich habe einen Hund\")"
      ],
      "execution_count": 42,
      "outputs": [
        {
          "output_type": "stream",
          "text": [
            "\n",
            "Epoch: 1 \n",
            "Train Loss 5.02642  Val loss 4.57103:\n",
            "Train Perplexity 152.3864913670454  Val Perplexity 96.643601435321:\n",
            "Teacher forcing: 0.2\n",
            "a . \n",
            "Epoch: 2 \n",
            "Train Loss 4.36643  Val loss 4.26193:\n",
            "Train Perplexity 78.76194903711755  Val Perplexity 70.94677868728083:\n",
            "Teacher forcing: 0.2\n",
            "is . \n",
            "Epoch: 3 \n",
            "Train Loss 3.99227  Val loss 3.96867:\n",
            "Train Perplexity 54.17773333734162  Val Perplexity 52.914108255059034:\n",
            "Teacher forcing: 0.2\n",
            "is . . \n",
            "Epoch: 4 \n",
            "Train Loss 3.61246  Val loss 3.63381:\n",
            "Train Perplexity 37.05710124840456  Val Perplexity 37.85677651795954:\n",
            "Teacher forcing: 0.2\n",
            "is . \n",
            "Epoch: 5 \n",
            "Train Loss 3.32383  Val loss 3.41635:\n",
            "Train Perplexity 27.766492833863992  Val Perplexity 30.458040039214634:\n",
            "Teacher forcing: 0.2\n",
            "is . . \n",
            "Epoch: 6 \n",
            "Train Loss 3.07818  Val loss 3.34271:\n",
            "Train Perplexity 21.718838118249995  Val Perplexity 28.295704254493184:\n",
            "Teacher forcing: 0.2\n",
            "is to . . \n",
            "Epoch: 7 \n",
            "Train Loss 2.92735  Val loss 3.18328:\n",
            "Train Perplexity 18.67806797520208  Val Perplexity 24.125756397553193:\n",
            "Teacher forcing: 0.2\n",
            "is a . . \n",
            "Epoch: 8 \n",
            "Train Loss 2.80805  Val loss 3.11121:\n",
            "Train Perplexity 16.57756043735034  Val Perplexity 22.448190284418843:\n",
            "Teacher forcing: 0.2\n",
            "is a . \n",
            "Epoch: 9 \n",
            "Train Loss 2.67904  Val loss 3.07955:\n",
            "Train Perplexity 14.571098324977592  Val Perplexity 21.74861331782661:\n",
            "Teacher forcing: 0.2\n",
            "is a . \n",
            "Epoch: 10 \n",
            "Train Loss 2.58015  Val loss 3.09154:\n",
            "Train Perplexity 13.199117878857537  Val Perplexity 22.010948749647998:\n",
            "Teacher forcing: 0.2\n",
            "is a . . \n",
            "Epoch: 11 \n",
            "Train Loss 2.45399  Val loss 2.99942:\n",
            "Train Perplexity 11.634676589259149  Val Perplexity 20.073890689506474:\n",
            "Teacher forcing: 0.2\n",
            "is a . \n",
            "Epoch: 12 \n",
            "Train Loss 2.38526  Val loss 2.98914:\n",
            "Train Perplexity 10.861886388281528  Val Perplexity 19.86858815623975:\n",
            "Teacher forcing: 0.2\n",
            "is a . \n",
            "Epoch: 13 \n",
            "Train Loss 2.32445  Val loss 2.94223:\n",
            "Train Perplexity 10.22105695824564  Val Perplexity 18.958075717818353:\n",
            "Teacher forcing: 0.2\n",
            "is a . \n",
            "Epoch: 14 \n",
            "Train Loss 2.25609  Val loss 2.95896:\n",
            "Train Perplexity 9.545692446354451  Val Perplexity 19.277912297603166:\n",
            "Teacher forcing: 0.2\n",
            "how to to . \n",
            "Epoch: 15 \n",
            "Train Loss 2.18113  Val loss 2.9448:\n",
            "Train Perplexity 8.856308234845454  Val Perplexity 19.00686063417905:\n",
            "Teacher forcing: 0.2\n",
            "how to . \n",
            "Epoch: 16 \n",
            "Train Loss 2.12017  Val loss 2.93777:\n",
            "Train Perplexity 8.332553901452357  Val Perplexity 18.87371097334283:\n",
            "Teacher forcing: 0.2\n",
            "helping a . \n",
            "Epoch: 17 \n",
            "Train Loss 2.07491  Val loss 2.94224:\n",
            "Train Perplexity 7.963829682108904  Val Perplexity 18.95826529952344:\n",
            "Teacher forcing: 0.2\n",
            "how to to . \n",
            "Epoch: 18 \n",
            "Train Loss 2.02562  Val loss 2.96244:\n",
            "Train Perplexity 7.580809589852024  Val Perplexity 19.34511629953993:\n",
            "Teacher forcing: 0.2\n",
            "how to to . \n",
            "Epoch: 19 \n",
            "Train Loss 1.98357  Val loss 2.91929:\n",
            "Train Perplexity 7.268645786607908  Val Perplexity 18.528127817876133:\n",
            "Teacher forcing: 0.2\n",
            "how to to . \n",
            "Epoch: 20 \n",
            "Train Loss 1.94405  Val loss 2.98648:\n",
            "Train Perplexity 6.986991059647939  Val Perplexity 19.815807940551984:\n",
            "Teacher forcing: 0.2\n",
            "how to . "
          ],
          "name": "stdout"
        }
      ]
    },
    {
      "cell_type": "code",
      "metadata": {
        "colab_type": "code",
        "id": "n5Zf6Kb1jhOI",
        "colab": {
          "base_uri": "https://localhost:8080/",
          "height": 34
        },
        "outputId": "b857c435-8a74-4567-a36c-9600d3a4393a"
      },
      "source": [
        "model.load_state_dict(torch.load('model.pt'))\n",
        "\n",
        "test_loss = evaluate(model, test_iterator, criterion)\n",
        "\n",
        "print('| Test Loss: {} Test PPL:{}|'.format(test_loss, np.exp(test_loss)))"
      ],
      "execution_count": 43,
      "outputs": [
        {
          "output_type": "stream",
          "text": [
            "| Test Loss: 2.920739710330963 Test PPL:18.55500771551206|\n"
          ],
          "name": "stdout"
        }
      ]
    },
    {
      "cell_type": "code",
      "metadata": {
        "colab_type": "code",
        "id": "HFIVyXXeJrCr",
        "colab": {}
      },
      "source": [
        "from nltk.translate.bleu_score import corpus_bleu, SmoothingFunction\n",
        "\n",
        "\n",
        "def translate_2(sentence):\n",
        "    \"\"\"\n",
        "    function that uses .translate() method of the model to translate german sentence into english\n",
        "    params:\n",
        "        sentence: tokenized gernam sentence\n",
        "    \"\"\"\n",
        "    model.eval()\n",
        "    \n",
        "    res = []\n",
        "    with torch.no_grad():\n",
        "\n",
        "        sent_vec = [SRC.vocab.stoi[token] for token in sentence]\n",
        "        translation_idx = model.translate(torch.tensor(sent_vec))\n",
        "        for t in translation_idx:\n",
        "            if t[0] != EOS_IDX:\n",
        "                res.append(TRG.vocab.itos[t[0]])\n",
        "            else:\n",
        "                break\n",
        "    return res"
      ],
      "execution_count": 44,
      "outputs": []
    },
    {
      "cell_type": "code",
      "metadata": {
        "id": "1kHSPYOXhDR1",
        "colab_type": "code",
        "colab": {
          "base_uri": "https://localhost:8080/",
          "height": 34
        },
        "outputId": "042cbbb8-e922-471f-c51d-cb88cf39f1f3"
      },
      "source": [
        "translations = []\n",
        "ground_truth = []\n",
        "german = []\n",
        "\n",
        "for i in test_data:\n",
        "  translations.append(translate_2(i.src[1:])[:-1])\n",
        "  ground_truth.append(i.trg[:-1])\n",
        "  german.append(i.src[1:])\n",
        "\n",
        "for i in valid_data:\n",
        "  translations.append(translate_2(i.src[1:])[:-1])\n",
        "  ground_truth.append(i.trg[:-1])\n",
        "  german.append(i.src[1:])\n",
        "\n",
        "print(len(translations), len(ground_truth), len(german))"
      ],
      "execution_count": 45,
      "outputs": [
        {
          "output_type": "stream",
          "text": [
            "2014 2014 2014\n"
          ],
          "name": "stdout"
        }
      ]
    },
    {
      "cell_type": "code",
      "metadata": {
        "id": "zZjNzBDGhwUi",
        "colab_type": "code",
        "colab": {
          "base_uri": "https://localhost:8080/",
          "height": 34
        },
        "outputId": "cc59a1aa-3410-4b50-8ba7-21a2e227815b"
      },
      "source": [
        "smoothie = SmoothingFunction().method5\n",
        "corpus_bleu([[ref] for ref in ground_truth], translations, smoothing_function=smoothie) * 100"
      ],
      "execution_count": 46,
      "outputs": [
        {
          "output_type": "execute_result",
          "data": {
            "text/plain": [
              "26.199896941988065"
            ]
          },
          "metadata": {
            "tags": []
          },
          "execution_count": 46
        }
      ]
    },
    {
      "cell_type": "code",
      "metadata": {
        "id": "jo6a6tSKi_hU",
        "colab_type": "code",
        "colab": {
          "base_uri": "https://localhost:8080/",
          "height": 689
        },
        "outputId": "6b7dc9af-1121-480c-9030-cb787c852a1e"
      },
      "source": [
        "for k in range(10):\n",
        "    i = np.random.randint(0,len(translations))\n",
        "\n",
        "    print('GERMAN:',\" \".join(german[i]))\n",
        "    print('TRANSLATION:',\" \".join(translations[i]))\n",
        "    print('ENGLISH:',\" \".join(ground_truth[i])+'\\n')"
      ],
      "execution_count": 47,
      "outputs": [
        {
          "output_type": "stream",
          "text": [
            "GERMAN: ipod seinem auf musik hört und bank einer auf sitzt mann ein\n",
            "TRANSLATION: man sitting on a bench bench listening listening to music\n",
            "ENGLISH: a man sits on a bench listing to his\n",
            "\n",
            "GERMAN: freien im megafon einem mit stehen hemden blauen in personen zwei\n",
            "TRANSLATION: people in blue shirts are standing a a .\n",
            "ENGLISH: two people in blue shirts are outside with a bullhorn\n",
            "\n",
            "GERMAN: fangen zu ball den um , laufen footballspieler die\n",
            "TRANSLATION: players players running the football running running to the ball\n",
            "ENGLISH: the football players are running to get the ball\n",
            "\n",
            "GERMAN: gartenschlauch einem mit spielt t-shirt roten einem und schnuller einem mit junge kleiner ein\n",
            "TRANSLATION: little boy with a and and red shirt shirt shirt plays with a a .\n",
            "ENGLISH: a toddler boy with a pacifier and a red shirt plays with a garden hose\n",
            "\n",
            "GERMAN: hintergrund im bäumen mit straße eine gehen menschen aussehende gruftis wie vier\n",
            "TRANSLATION: five people with people people are walking down a a street\n",
            "ENGLISH: four goth looking people walking down a street with trees in the\n",
            "\n",
            "GERMAN: sandburg eine baut strand einem an mann ein\n",
            "TRANSLATION: man on a beach next a beach\n",
            "ENGLISH: a man on a beach building a sand castle\n",
            "\n",
            "GERMAN: wasser im treibt rettungsweste einer in mädchen ein\n",
            "TRANSLATION: girl in a life coat is in the water\n",
            "ENGLISH: a girl wearing a life vest floats in water\n",
            "\n",
            "GERMAN: hinten nach baseballschläger roten einen schwingt kind kleines ein\n",
            "TRANSLATION: little kid swings a red baseball bat\n",
            "ENGLISH: a small child swings back a red baseball bat\n",
            "\n",
            "GERMAN: essen zu etwas ohne , herum zimmer seinem in tage mehrere liegt mann ein\n",
            "TRANSLATION: man lying on several <unk> in room with room with .\n",
            "ENGLISH: a man lounges in his room without eating for days\n",
            "\n",
            "GERMAN: weg läuft hund schwarzer ein und kreis im spielen hunde vier\n",
            "TRANSLATION: four kids playing in a circle , in the circle and a black dog\n",
            "ENGLISH: four dogs are playing in a circle and one black dog is walking away\n",
            "\n"
          ],
          "name": "stdout"
        }
      ]
    }
  ]
}